{
 "cells": [
  {
   "cell_type": "code",
   "execution_count": 3,
   "id": "7624113c-afab-4d60-8651-2ffea16aecbb",
   "metadata": {},
   "outputs": [],
   "source": [
    "import pandas as pd\n",
    "import numpy as np\n",
    "from scipy.stats import poisson"
   ]
  },
  {
   "cell_type": "code",
   "execution_count": 9,
   "id": "41cad944-11e0-4bf5-a1ef-7ae6d893a67a",
   "metadata": {},
   "outputs": [],
   "source": [
    "# Charger les données\n",
    "df_historical_data = pd.read_csv('clean_fifa_worldcup_matches.csv')\n",
    "df_fixtures = pd.read_csv('clean_fifa_worldcup_fixture.csv')"
   ]
  },
  {
   "cell_type": "code",
   "execution_count": 59,
   "id": "8bdcbc3f-37dd-462b-b332-10f4ab902db3",
   "metadata": {},
   "outputs": [
    {
     "data": {
      "text/plain": [
       "HomeTeam     object\n",
       "AwayTeam     object\n",
       "Year          int64\n",
       "HomeGoals     int64\n",
       "AwayGoals     int64\n",
       "dtype: object"
      ]
     },
     "execution_count": 59,
     "metadata": {},
     "output_type": "execute_result"
    }
   ],
   "source": [
    "historical_data.dtypes"
   ]
  },
  {
   "cell_type": "code",
   "execution_count": 60,
   "id": "d345f180-5d60-49f0-aeb6-23e495ecfb16",
   "metadata": {},
   "outputs": [],
   "source": [
    "df_historical_data['HomeGoals'] = pd.to_numeric(df_historical_data['HomeGoals'], errors='coerce')\n",
    "df_historical_data['AwayGoals'] = pd.to_numeric(df_historical_data['AwayGoals'], errors='coerce')"
   ]
  },
  {
   "cell_type": "code",
   "execution_count": 61,
   "id": "f4ba6b60-628e-44a5-9b99-335ed32e9402",
   "metadata": {},
   "outputs": [],
   "source": [
    "# Calculer la moyenne des buts marqués et concédés pour chaque équipe\n",
    "def calculate_team_strength(data):\n",
    "    team_stats = pd.DataFrame()\n",
    "    \n",
    "    # Buts marqués\n",
    "    team_stats['goals_scored'] = data.groupby('HomeTeam')['HomeGoals'].mean() + data.groupby('AwayTeam')['AwayGoals'].mean()\n",
    "    \n",
    "    # Buts concédés\n",
    "    team_stats['goals_conceded'] = data.groupby('HomeTeam')['AwayGoals'].mean() + data.groupby('AwayTeam')['HomeGoals'].mean()\n",
    "    \n",
    "    return team_stats"
   ]
  },
  {
   "cell_type": "code",
   "execution_count": 62,
   "id": "e7f1db26-050c-4af2-a195-f1cefceeafc5",
   "metadata": {},
   "outputs": [],
   "source": [
    "df_team_strengths = calculate_team_strength(df_historical_data)"
   ]
  },
  {
   "cell_type": "code",
   "execution_count": 63,
   "id": "b46d87c8-dbcb-409d-a45a-8c9f4564484c",
   "metadata": {},
   "outputs": [
    {
     "data": {
      "text/html": [
       "<div>\n",
       "<style scoped>\n",
       "    .dataframe tbody tr th:only-of-type {\n",
       "        vertical-align: middle;\n",
       "    }\n",
       "\n",
       "    .dataframe tbody tr th {\n",
       "        vertical-align: top;\n",
       "    }\n",
       "\n",
       "    .dataframe thead th {\n",
       "        text-align: right;\n",
       "    }\n",
       "</style>\n",
       "<table border=\"1\" class=\"dataframe\">\n",
       "  <thead>\n",
       "    <tr style=\"text-align: right;\">\n",
       "      <th></th>\n",
       "      <th>goals_scored</th>\n",
       "      <th>goals_conceded</th>\n",
       "    </tr>\n",
       "  </thead>\n",
       "  <tbody>\n",
       "    <tr>\n",
       "      <th>Algeria</th>\n",
       "      <td>1.976190</td>\n",
       "      <td>2.952381</td>\n",
       "    </tr>\n",
       "    <tr>\n",
       "      <th>Angola</th>\n",
       "      <td>0.500000</td>\n",
       "      <td>1.500000</td>\n",
       "    </tr>\n",
       "    <tr>\n",
       "      <th>Argentina</th>\n",
       "      <td>3.044228</td>\n",
       "      <td>2.731634</td>\n",
       "    </tr>\n",
       "    <tr>\n",
       "      <th>Australia</th>\n",
       "      <td>1.666667</td>\n",
       "      <td>3.857143</td>\n",
       "    </tr>\n",
       "    <tr>\n",
       "      <th>Austria</th>\n",
       "      <td>3.019048</td>\n",
       "      <td>3.238095</td>\n",
       "    </tr>\n",
       "    <tr>\n",
       "      <th>...</th>\n",
       "      <td>...</td>\n",
       "      <td>...</td>\n",
       "    </tr>\n",
       "    <tr>\n",
       "      <th>Uruguay</th>\n",
       "      <td>2.886693</td>\n",
       "      <td>2.729908</td>\n",
       "    </tr>\n",
       "    <tr>\n",
       "      <th>Wales</th>\n",
       "      <td>2.500000</td>\n",
       "      <td>1.750000</td>\n",
       "    </tr>\n",
       "    <tr>\n",
       "      <th>West Germany</th>\n",
       "      <td>4.000000</td>\n",
       "      <td>2.686404</td>\n",
       "    </tr>\n",
       "    <tr>\n",
       "      <th>Yugoslavia</th>\n",
       "      <td>3.511111</td>\n",
       "      <td>2.433333</td>\n",
       "    </tr>\n",
       "    <tr>\n",
       "      <th>Zaire</th>\n",
       "      <td>0.000000</td>\n",
       "      <td>11.500000</td>\n",
       "    </tr>\n",
       "  </tbody>\n",
       "</table>\n",
       "<p>85 rows × 2 columns</p>\n",
       "</div>"
      ],
      "text/plain": [
       "              goals_scored  goals_conceded\n",
       "Algeria           1.976190        2.952381\n",
       "Angola            0.500000        1.500000\n",
       "Argentina         3.044228        2.731634\n",
       "Australia         1.666667        3.857143\n",
       "Austria           3.019048        3.238095\n",
       "...                    ...             ...\n",
       "Uruguay           2.886693        2.729908\n",
       "Wales             2.500000        1.750000\n",
       "West Germany      4.000000        2.686404\n",
       "Yugoslavia        3.511111        2.433333\n",
       "Zaire             0.000000       11.500000\n",
       "\n",
       "[85 rows x 2 columns]"
      ]
     },
     "execution_count": 63,
     "metadata": {},
     "output_type": "execute_result"
    }
   ],
   "source": [
    "print(df_team_strengths)"
   ]
  },
  {
   "cell_type": "code",
   "execution_count": 50,
   "id": "ffcec2d0-a9e2-4880-bcce-1a4d5a5bca59",
   "metadata": {},
   "outputs": [],
   "source": [
    "df_team_strengths.to_csv('strenghts.csv', index=False)"
   ]
  },
  {
   "cell_type": "code",
   "execution_count": 69,
   "id": "050b920c-6f33-4f0e-b8ff-a3a2582d7ff2",
   "metadata": {},
   "outputs": [],
   "source": [
    "def predict_points(home, away):\n",
    "    # Vérifier si les équipes existent dans les données\n",
    "    if home in df_team_strengths.index and away in df_team_strengths.index:\n",
    "        lamb_home = df_team_strengths.at[home, 'goals_scored'] * df_team_strengths.at[away, 'goals_conceded']\n",
    "        lamb_away = df_team_strengths.at[away, 'goals_scored'] * df_team_strengths.at[home, 'goals_conceded']\n",
    "    else:\n",
    "        # Si une équipe n'a pas d'historique, on attribue la moyenne des autres équipes\n",
    "        avg_goals_scored = df_team_strengths['goals_scored'].mean()\n",
    "        avg_goals_conceded = df_team_strengths['goals_conceded'].mean()\n",
    "        \n",
    "        lamb_home = (df_team_strengths.at[home, 'goals_scored'] if home in df_team_strengths.index else avg_goals_scored) \\\n",
    "                    * (df_team_strengths.at[away, 'goals_conceded'] if away in df_team_strengths.index else avg_goals_conceded)\n",
    "                    \n",
    "        lamb_away = (df_team_strengths.at[away, 'goals_scored'] if away in df_team_strengths.index else avg_goals_scored) \\\n",
    "                    * (df_team_strengths.at[home, 'goals_conceded'] if home in df_team_strengths.index else avg_goals_conceded)\n",
    "    \n",
    "    # Probabilités pour les résultats\n",
    "    prob_home, prob_away, prob_draw = 0, 0, 0\n",
    "    for x in range(0, 11):  # Nombre de buts de l'équipe à domicile\n",
    "        for y in range(0, 11):  # Nombre de buts de l'équipe à l'extérieur\n",
    "            p = poisson.pmf(x, lamb_home) * poisson.pmf(y, lamb_away)\n",
    "            if x == y:\n",
    "                prob_draw += p\n",
    "            elif x > y:\n",
    "                prob_home += p\n",
    "            else:\n",
    "                prob_away += p\n",
    "\n",
    "    # Calcul des points attendus\n",
    "    points_home = 3 * prob_home + prob_draw\n",
    "    points_away = 3 * prob_away + prob_draw\n",
    "    \n",
    "    return (points_home, points_away)\n"
   ]
  },
  {
   "cell_type": "code",
   "execution_count": 75,
   "id": "248ddf0a-98a7-4e41-aa7c-cda46d8337fe",
   "metadata": {},
   "outputs": [
    {
     "data": {
      "text/plain": [
       "(0.7521773921056127, 1.9027773661139336)"
      ]
     },
     "execution_count": 75,
     "metadata": {},
     "output_type": "execute_result"
    }
   ],
   "source": [
    "predict_points('Qatar', 'Ecuador')\n",
    "# Ecuador ==> true"
   ]
  },
  {
   "cell_type": "code",
   "execution_count": 76,
   "id": "2b2956ce-78e7-4896-a51f-4665e8a0c05f",
   "metadata": {},
   "outputs": [
    {
     "data": {
      "text/plain": [
       "(0.34902128362955764, 1.575228367702044)"
      ]
     },
     "execution_count": 76,
     "metadata": {},
     "output_type": "execute_result"
    }
   ],
   "source": [
    "predict_points('Senegal', 'Netherlands')\n",
    "# Netherlands ==> true"
   ]
  },
  {
   "cell_type": "code",
   "execution_count": 77,
   "id": "411987c3-b450-48a5-a269-ebbaffac8a19",
   "metadata": {},
   "outputs": [
    {
     "data": {
      "text/plain": [
       "(0.5794201217227852, 1.506156126921597)"
      ]
     },
     "execution_count": 77,
     "metadata": {},
     "output_type": "execute_result"
    }
   ],
   "source": [
    "predict_points('Qatar', 'Senegal')\n",
    "#Senegal ==> true"
   ]
  },
  {
   "cell_type": "code",
   "execution_count": 78,
   "id": "3b712cf9-41ab-4ea0-8e9d-3426672a1b1c",
   "metadata": {},
   "outputs": [
    {
     "data": {
      "text/plain": [
       "(2.118118963803906, 0.447360105302669)"
      ]
     },
     "execution_count": 78,
     "metadata": {},
     "output_type": "execute_result"
    }
   ],
   "source": [
    "predict_points('Netherlands', 'Ecuador')\n",
    "#Netherlands => false"
   ]
  },
  {
   "cell_type": "code",
   "execution_count": 79,
   "id": "9ee57d6f-8608-4de3-b96d-95f2356084f6",
   "metadata": {},
   "outputs": [
    {
     "data": {
      "text/plain": [
       "(1.3467554978168956, 1.4004345061216021)"
      ]
     },
     "execution_count": 79,
     "metadata": {},
     "output_type": "execute_result"
    }
   ],
   "source": [
    "predict_points('Ecuador', 'Senegal')\n",
    "#égalite => false "
   ]
  },
  {
   "cell_type": "code",
   "execution_count": 80,
   "id": "f5d0d620-875c-48d5-acac-e4a510d40b26",
   "metadata": {},
   "outputs": [
    {
     "data": {
      "text/plain": [
       "(1.084592789972144, 0.08454568379066407)"
      ]
     },
     "execution_count": 80,
     "metadata": {},
     "output_type": "execute_result"
    }
   ],
   "source": [
    "predict_points('Netherlands', 'Qatar')\n",
    "#Netherlands"
   ]
  },
  {
   "cell_type": "code",
   "execution_count": null,
   "id": "5ac43edd-9ec6-48fb-ae6c-2bc9703ebe38",
   "metadata": {},
   "outputs": [],
   "source": [
    "#Netherlands = 9 points\n",
    "#Ecuador =  4 points ou 6 points\n",
    "#Senegal =  4 points ou 3 points\n",
    "#Qatar = 0 points\n",
    "\n",
    "#1 Netherlands  => true\n",
    "#2 Ecuador => false"
   ]
  },
  {
   "cell_type": "code",
   "execution_count": 81,
   "id": "71ecc5ce-5cd2-4d26-ab66-2aeaa061a00d",
   "metadata": {},
   "outputs": [
    {
     "data": {
      "text/plain": [
       "(2.541488534538541, 0.13519963857290127)"
      ]
     },
     "execution_count": 81,
     "metadata": {},
     "output_type": "execute_result"
    }
   ],
   "source": [
    "predict_points('England', 'Iran')\n",
    "#England ==> true "
   ]
  },
  {
   "cell_type": "code",
   "execution_count": 82,
   "id": "3d162217-5ae8-4ab9-96b0-266b7f209345",
   "metadata": {},
   "outputs": [
    {
     "data": {
      "text/plain": [
       "(0.27255477698229563, 2.030845754830462)"
      ]
     },
     "execution_count": 82,
     "metadata": {},
     "output_type": "execute_result"
    }
   ],
   "source": [
    "predict_points('United State', 'Wales')\n",
    "#Wales "
   ]
  },
  {
   "cell_type": "code",
   "execution_count": 83,
   "id": "c24b3e4e-17c6-48f2-915d-dac5f4b56fdc",
   "metadata": {},
   "outputs": [
    {
     "data": {
      "text/plain": [
       "(2.5979877305509733, 0.13725880262528944)"
      ]
     },
     "execution_count": 83,
     "metadata": {},
     "output_type": "execute_result"
    }
   ],
   "source": [
    "predict_points('Wales', 'Iran')\n",
    "#Wales ==> false"
   ]
  },
  {
   "cell_type": "code",
   "execution_count": 84,
   "id": "6c832282-a81b-40cb-964b-2de358468a85",
   "metadata": {},
   "outputs": [
    {
     "data": {
      "text/plain": [
       "(1.8985847167229961, 0.2755102907343436)"
      ]
     },
     "execution_count": 84,
     "metadata": {},
     "output_type": "execute_result"
    }
   ],
   "source": [
    "predict_points('England', 'United State')\n",
    "#England ==> false"
   ]
  },
  {
   "cell_type": "code",
   "execution_count": 87,
   "id": "13c79320-9214-41d2-8875-bb024497af56",
   "metadata": {},
   "outputs": [
    {
     "data": {
      "text/plain": [
       "(1.459381249623247, 1.3579712258817107)"
      ]
     },
     "execution_count": 87,
     "metadata": {},
     "output_type": "execute_result"
    }
   ],
   "source": [
    "predict_points('Wales', 'England')\n",
    "#égalité => false"
   ]
  },
  {
   "cell_type": "code",
   "execution_count": 86,
   "id": "c6da36b5-d8dc-4ecd-846e-dd00256aaaf5",
   "metadata": {},
   "outputs": [
    {
     "data": {
      "text/plain": [
       "(0.6906913470220495, 2.0861654436317654)"
      ]
     },
     "execution_count": 86,
     "metadata": {},
     "output_type": "execute_result"
    }
   ],
   "source": [
    "predict_points('Iran', 'United State')\n",
    "#United State => true"
   ]
  },
  {
   "cell_type": "code",
   "execution_count": 88,
   "id": "e096be5c-2996-4be9-bf82-2aed783f3a3c",
   "metadata": {},
   "outputs": [],
   "source": [
    "#England 7 points = true \n",
    "#Wales 7 points  = false\n",
    "#United State 3 points \n",
    "#Iran 0 points\n"
   ]
  },
  {
   "cell_type": "code",
   "execution_count": 89,
   "id": "30c69224-9b65-4c6a-9a48-3ec9d02293b8",
   "metadata": {},
   "outputs": [
    {
     "data": {
      "text/plain": [
       "(0.4129045352647607, 0.010301152536280085)"
      ]
     },
     "execution_count": 89,
     "metadata": {},
     "output_type": "execute_result"
    }
   ],
   "source": [
    "predict_points('Argentina', 'Saudi Arabia')\n",
    "#Argentina => false"
   ]
  },
  {
   "cell_type": "code",
   "execution_count": 90,
   "id": "ff345ee5-1327-49c3-b109-a1776d422685",
   "metadata": {},
   "outputs": [
    {
     "data": {
      "text/plain": [
       "(0.7149898430301787, 1.5743418846045656)"
      ]
     },
     "execution_count": 90,
     "metadata": {},
     "output_type": "execute_result"
    }
   ],
   "source": [
    "predict_points('Mexico', 'Poland')\n",
    "#Poland => false"
   ]
  },
  {
   "cell_type": "code",
   "execution_count": 91,
   "id": "32cbc57f-fb3b-41c9-b528-763e98d02f96",
   "metadata": {},
   "outputs": [
    {
     "data": {
      "text/plain": [
       "(0.7436092942179612, 0.022773572630819933)"
      ]
     },
     "execution_count": 91,
     "metadata": {},
     "output_type": "execute_result"
    }
   ],
   "source": [
    "predict_points('Poland', 'Saudi Arabia')\n",
    "#Poland ==> true"
   ]
  },
  {
   "cell_type": "code",
   "execution_count": 92,
   "id": "5a0adc76-d327-4c95-8eea-3ad2129b043a",
   "metadata": {},
   "outputs": [
    {
     "data": {
      "text/plain": [
       "(1.444019579137419, 0.5337566692969863)"
      ]
     },
     "execution_count": 92,
     "metadata": {},
     "output_type": "execute_result"
    }
   ],
   "source": [
    "predict_points('Argentina','Mexico')\n",
    "#Argentina ==> True"
   ]
  },
  {
   "cell_type": "code",
   "execution_count": 93,
   "id": "184ae77b-edf2-4860-b242-cfd0c126a91a",
   "metadata": {},
   "outputs": [
    {
     "data": {
      "text/plain": [
       "(0.9055290142604736, 1.1177933866633882)"
      ]
     },
     "execution_count": 93,
     "metadata": {},
     "output_type": "execute_result"
    }
   ],
   "source": [
    "predict_points('Poland','Argentina')\n",
    "#Argentina ==> True"
   ]
  },
  {
   "cell_type": "code",
   "execution_count": 94,
   "id": "7f0b322a-5000-466b-86c1-a4269e8ce647",
   "metadata": {},
   "outputs": [
    {
     "data": {
      "text/plain": [
       "(0.11023381393741741, 1.4246686284538466)"
      ]
     },
     "execution_count": 94,
     "metadata": {},
     "output_type": "execute_result"
    }
   ],
   "source": [
    "predict_points('Saudi Arabia', 'Mexico')\n",
    "#Mexico ==> true"
   ]
  },
  {
   "cell_type": "code",
   "execution_count": null,
   "id": "613a9a1c-c918-41c9-a910-a6810ba5b537",
   "metadata": {},
   "outputs": [],
   "source": [
    "#Argentina 9 points => true \n",
    "#Poland 6 points => true\n",
    "#Mexico 3 points \n",
    "#Saudi Arabia 0 points "
   ]
  },
  {
   "cell_type": "code",
   "execution_count": 95,
   "id": "f289a210-5314-49a9-88d9-4baade2c0677",
   "metadata": {},
   "outputs": [
    {
     "data": {
      "text/plain": [
       "(1.4073668577751097, 0.2823361612537839)"
      ]
     },
     "execution_count": 95,
     "metadata": {},
     "output_type": "execute_result"
    }
   ],
   "source": [
    "predict_points('Denmark', 'Tunisia')\n",
    "#Denmark => false"
   ]
  },
  {
   "cell_type": "code",
   "execution_count": 101,
   "id": "6c74a7c1-ca65-4084-9001-6a862258d56e",
   "metadata": {},
   "outputs": [
    {
     "data": {
      "text/plain": [
       "(0.5009993292559866, 0.015388591101809668)"
      ]
     },
     "execution_count": 101,
     "metadata": {},
     "output_type": "execute_result"
    }
   ],
   "source": [
    "predict_points('France', 'Australia')\n",
    "#France => true"
   ]
  },
  {
   "cell_type": "code",
   "execution_count": 102,
   "id": "49786769-487f-48f1-b698-17146d1a1283",
   "metadata": {},
   "outputs": [
    {
     "data": {
      "text/plain": [
       "(1.6712630749870232, 0.7031191235106107)"
      ]
     },
     "execution_count": 102,
     "metadata": {},
     "output_type": "execute_result"
    }
   ],
   "source": [
    "predict_points('Tunisia', 'Australia')\n",
    "#Tunisia => false"
   ]
  },
  {
   "cell_type": "code",
   "execution_count": 103,
   "id": "143a2f92-8b0c-4881-b298-b34c96f96e99",
   "metadata": {},
   "outputs": [
    {
     "data": {
      "text/plain": [
       "(1.106789557771825, 0.5217658092500898)"
      ]
     },
     "execution_count": 103,
     "metadata": {},
     "output_type": "execute_result"
    }
   ],
   "source": [
    "predict_points('France', 'Denmark')\n",
    "#France => true"
   ]
  },
  {
   "cell_type": "code",
   "execution_count": 99,
   "id": "00ed4e01-f274-4895-9b69-8f01e6136b08",
   "metadata": {},
   "outputs": [
    {
     "data": {
      "text/plain": [
       "(0.08216411382517512, 1.060526619996513)"
      ]
     },
     "execution_count": 99,
     "metadata": {},
     "output_type": "execute_result"
    }
   ],
   "source": [
    "predict_points('Australia', 'Denmark')\n",
    "#Denmark => false"
   ]
  },
  {
   "cell_type": "code",
   "execution_count": 104,
   "id": "70ebb20a-ced4-439c-ae6e-12df74f77b08",
   "metadata": {},
   "outputs": [
    {
     "data": {
      "text/plain": [
       "(0.08010617191845973, 0.9345959328130188)"
      ]
     },
     "execution_count": 104,
     "metadata": {},
     "output_type": "execute_result"
    }
   ],
   "source": [
    "predict_points('Tunisia', 'France')\n",
    "#France => false"
   ]
  },
  {
   "cell_type": "code",
   "execution_count": null,
   "id": "5f0c61cf-ced7-4416-b789-1a1a102eab8f",
   "metadata": {},
   "outputs": [],
   "source": [
    "#France 9 points => true\n",
    "#Denmark 6 points => false\n",
    "#Tunisia 3 ponits\n",
    "#Austria 0 points"
   ]
  },
  {
   "cell_type": "code",
   "execution_count": 105,
   "id": "2330168b-dc4b-488e-ab52-b2c73c111e74",
   "metadata": {},
   "outputs": [
    {
     "data": {
      "text/plain": [
       "(1.194031868362481, 0.08588849435149619)"
      ]
     },
     "execution_count": 105,
     "metadata": {},
     "output_type": "execute_result"
    }
   ],
   "source": [
    "predict_points('Germany', 'Japan')\n",
    "#Germany => false"
   ]
  },
  {
   "cell_type": "code",
   "execution_count": 106,
   "id": "0af8ffab-e85e-4167-b857-f21bb19bc500",
   "metadata": {},
   "outputs": [
    {
     "data": {
      "text/plain": [
       "(1.5876933136967417, 0.24152103218612056)"
      ]
     },
     "execution_count": 106,
     "metadata": {},
     "output_type": "execute_result"
    }
   ],
   "source": [
    "predict_points('Spain', 'Costa Rica')\n",
    "#Spain => true"
   ]
  },
  {
   "cell_type": "code",
   "execution_count": 107,
   "id": "d091cf43-b373-4129-b4f1-d1b2d13d3b16",
   "metadata": {},
   "outputs": [
    {
     "data": {
      "text/plain": [
       "(1.4613135375821031, 1.2068748597068597)"
      ]
     },
     "execution_count": 107,
     "metadata": {},
     "output_type": "execute_result"
    }
   ],
   "source": [
    "predict_points('Japan', 'Costa Rica')\n",
    "#égalité => false"
   ]
  },
  {
   "cell_type": "code",
   "execution_count": 111,
   "id": "c1c92add-7b44-451b-b6c4-9873a94d8ec3",
   "metadata": {},
   "outputs": [
    {
     "data": {
      "text/plain": [
       "(0.5358874450549279, 1.223585067140565)"
      ]
     },
     "execution_count": 111,
     "metadata": {},
     "output_type": "execute_result"
    }
   ],
   "source": [
    "predict_points('Spain', 'Germany')\n",
    "#Germany => false"
   ]
  },
  {
   "cell_type": "code",
   "execution_count": 112,
   "id": "bba69783-22de-4aa7-9afb-6ce223866d3d",
   "metadata": {},
   "outputs": [
    {
     "data": {
      "text/plain": [
       "(0.33862558309052493, 1.8324803245846433)"
      ]
     },
     "execution_count": 112,
     "metadata": {},
     "output_type": "execute_result"
    }
   ],
   "source": [
    "predict_points('Japan', 'Spain')\n",
    "#Spain => false"
   ]
  },
  {
   "cell_type": "code",
   "execution_count": 110,
   "id": "78d859cc-8568-42c5-b0b4-704efe87ca23",
   "metadata": {},
   "outputs": [
    {
     "data": {
      "text/plain": [
       "(0.049943782637445706, 0.8259053421832803)"
      ]
     },
     "execution_count": 110,
     "metadata": {},
     "output_type": "execute_result"
    }
   ],
   "source": [
    "predict_points('Costa Rica', 'Germany')\n",
    "#Germany => true"
   ]
  },
  {
   "cell_type": "code",
   "execution_count": null,
   "id": "9ab72c74-eed0-4658-8bfc-eee57c1db1a0",
   "metadata": {},
   "outputs": [],
   "source": [
    "#Germany 9 points => false\n",
    "#Spain 6 points => true\n",
    "#Japan 1 point\n",
    "#Costa Rica 1 point "
   ]
  },
  {
   "cell_type": "code",
   "execution_count": 113,
   "id": "085ffb34-d723-4953-90a8-319085c1b2ed",
   "metadata": {},
   "outputs": [
    {
     "data": {
      "text/plain": [
       "(0.3340114555909465, 2.1175888607482882)"
      ]
     },
     "execution_count": 113,
     "metadata": {},
     "output_type": "execute_result"
    }
   ],
   "source": [
    "predict_points('Morocco', 'Croatia')\n",
    "#Croatia => false"
   ]
  },
  {
   "cell_type": "code",
   "execution_count": 114,
   "id": "778ae65d-a424-459a-a759-22bb54b6b122",
   "metadata": {},
   "outputs": [
    {
     "data": {
      "text/plain": [
       "(2.22741285564992, 0.00016905022711809965)"
      ]
     },
     "execution_count": 114,
     "metadata": {},
     "output_type": "execute_result"
    }
   ],
   "source": [
    "predict_points('Belgium', 'Canada')\n",
    "#Belgium => true"
   ]
  },
  {
   "cell_type": "code",
   "execution_count": 115,
   "id": "c1f88e11-43d4-4030-8fee-4e861407a76d",
   "metadata": {},
   "outputs": [
    {
     "data": {
      "text/plain": [
       "(1.9055847876954237, 0.5294297862092473)"
      ]
     },
     "execution_count": 115,
     "metadata": {},
     "output_type": "execute_result"
    }
   ],
   "source": [
    "predict_points('Belgium', 'Morocco')\n",
    "#Belgium => false"
   ]
  },
  {
   "cell_type": "code",
   "execution_count": 116,
   "id": "b3a531e1-0df9-490d-a4f7-9a26373dc13d",
   "metadata": {},
   "outputs": [
    {
     "data": {
      "text/plain": [
       "(2.200176913197418, 0.00015614806248443323)"
      ]
     },
     "execution_count": 116,
     "metadata": {},
     "output_type": "execute_result"
    }
   ],
   "source": [
    "predict_points('Croatia', 'Canada')\n",
    "#Croatia => true"
   ]
  },
  {
   "cell_type": "code",
   "execution_count": 117,
   "id": "88c12582-b44b-4d82-9fa1-ced4beb60ec1",
   "metadata": {},
   "outputs": [
    {
     "data": {
      "text/plain": [
       "(1.2349000126958858, 0.7352864315790354)"
      ]
     },
     "execution_count": 117,
     "metadata": {},
     "output_type": "execute_result"
    }
   ],
   "source": [
    "predict_points('Croatia', 'Belgium')\n",
    "#Croatia => false"
   ]
  },
  {
   "cell_type": "code",
   "execution_count": 119,
   "id": "5f14123f-3033-44ed-a8ba-1b6dd78af9d2",
   "metadata": {},
   "outputs": [
    {
     "data": {
      "text/plain": [
       "(0.008229747049020023, 2.952290015481692)"
      ]
     },
     "execution_count": 119,
     "metadata": {},
     "output_type": "execute_result"
    }
   ],
   "source": [
    "predict_points('Canada', 'Morocco')\n",
    "#Morocco => true"
   ]
  },
  {
   "cell_type": "code",
   "execution_count": 120,
   "id": "f783b37c-a777-45b7-9941-ab34f6bea948",
   "metadata": {},
   "outputs": [],
   "source": [
    "#Croatia 9 points\n",
    "#Belgium 6 points\n",
    "#Morocco 3 points\n",
    "#Canada 0 points"
   ]
  },
  {
   "cell_type": "code",
   "execution_count": 121,
   "id": "38952beb-281a-4779-bcf3-a904aea7bc0d",
   "metadata": {},
   "outputs": [
    {
     "data": {
      "text/plain": [
       "(1.1993628017570503, 0.17048321528166496)"
      ]
     },
     "execution_count": 121,
     "metadata": {},
     "output_type": "execute_result"
    }
   ],
   "source": [
    "predict_points('Switzerland', 'Cameroon')\n",
    "#Switzerland => true"
   ]
  },
  {
   "cell_type": "code",
   "execution_count": 122,
   "id": "04b19f62-6428-4a79-bf6b-1fac30d135eb",
   "metadata": {},
   "outputs": [
    {
     "data": {
      "text/plain": [
       "(1.8136611189861047, 0.059760913577215025)"
      ]
     },
     "execution_count": 122,
     "metadata": {},
     "output_type": "execute_result"
    }
   ],
   "source": [
    "predict_points('Brazil', 'Serbia')\n",
    "#Brazil => true"
   ]
  },
  {
   "cell_type": "code",
   "execution_count": 123,
   "id": "1979844f-f58c-40ec-9d87-c6e28d11d507",
   "metadata": {},
   "outputs": [
    {
     "data": {
      "text/plain": [
       "(0.9017413954470088, 1.9310207981764198)"
      ]
     },
     "execution_count": 123,
     "metadata": {},
     "output_type": "execute_result"
    }
   ],
   "source": [
    "predict_points('Cameroon', 'Serbia')\n",
    "#Serbia => false"
   ]
  },
  {
   "cell_type": "code",
   "execution_count": 124,
   "id": "d767046f-fccf-4122-9e95-8982315a993d",
   "metadata": {},
   "outputs": [
    {
     "data": {
      "text/plain": [
       "(0.4854876525849038, 0.07576909343277408)"
      ]
     },
     "execution_count": 124,
     "metadata": {},
     "output_type": "execute_result"
    }
   ],
   "source": [
    "predict_points('Brazil', 'Switzerland')\n",
    "#Brazil => true"
   ]
  },
  {
   "cell_type": "code",
   "execution_count": 125,
   "id": "7cf270f6-a64c-4d44-9f64-f95027474285",
   "metadata": {},
   "outputs": [
    {
     "data": {
      "text/plain": [
       "(0.6427002731565016, 1.9867465634507764)"
      ]
     },
     "execution_count": 125,
     "metadata": {},
     "output_type": "execute_result"
    }
   ],
   "source": [
    "predict_points('Serbia', 'Switzerland')\n",
    "#Switzerland => true"
   ]
  },
  {
   "cell_type": "code",
   "execution_count": 126,
   "id": "c279f2fd-9ad1-4c49-9f22-d6ea1346fb61",
   "metadata": {},
   "outputs": [
    {
     "data": {
      "text/plain": [
       "(0.0036185982163254938, 0.3073854147389852)"
      ]
     },
     "execution_count": 126,
     "metadata": {},
     "output_type": "execute_result"
    }
   ],
   "source": [
    "predict_points('Cameroon', 'Brazil')\n",
    "#Brazil => false"
   ]
  },
  {
   "cell_type": "code",
   "execution_count": null,
   "id": "25b4170a-92d5-419c-b5d4-830196effe2f",
   "metadata": {},
   "outputs": [],
   "source": [
    "#Brazil 9 points => true \n",
    "#Switzerland 6 points => true\n",
    "#Serbia 3 points \n",
    "#Cameroon 0 points  "
   ]
  },
  {
   "cell_type": "code",
   "execution_count": 127,
   "id": "a1d201cd-3f8f-4358-9bb7-27916a65e0dc",
   "metadata": {},
   "outputs": [
    {
     "data": {
      "text/plain": [
       "(0.9297453388046442, 0.14651412488473672)"
      ]
     },
     "execution_count": 127,
     "metadata": {},
     "output_type": "execute_result"
    }
   ],
   "source": [
    "predict_points('Uruguay', 'South Korea')\n",
    "#Uruguay => false"
   ]
  },
  {
   "cell_type": "code",
   "execution_count": 128,
   "id": "920d9dc4-23b5-48b4-bfd6-d261989fe0c2",
   "metadata": {},
   "outputs": [
    {
     "data": {
      "text/plain": [
       "(1.741171271585802, 0.62997189815189)"
      ]
     },
     "execution_count": 128,
     "metadata": {},
     "output_type": "execute_result"
    }
   ],
   "source": [
    "predict_points('Portugal', 'Ghana')\n",
    "#Portugal => true"
   ]
  },
  {
   "cell_type": "code",
   "execution_count": 129,
   "id": "b477cc06-4ed5-4780-8901-dd55f297a452",
   "metadata": {},
   "outputs": [
    {
     "data": {
      "text/plain": [
       "(0.48325753228234886, 1.647559221173319)"
      ]
     },
     "execution_count": 129,
     "metadata": {},
     "output_type": "execute_result"
    }
   ],
   "source": [
    "predict_points('South Korea', 'Ghana')\n",
    "#Ghana => true"
   ]
  },
  {
   "cell_type": "code",
   "execution_count": 130,
   "id": "ce2d65c1-316b-47dd-9003-78796bf11164",
   "metadata": {},
   "outputs": [
    {
     "data": {
      "text/plain": [
       "(1.1892353495490293, 0.8680944748988114)"
      ]
     },
     "execution_count": 130,
     "metadata": {},
     "output_type": "execute_result"
    }
   ],
   "source": [
    "predict_points('Portugal', 'Uruguay')\n",
    "#Portugal => true"
   ]
  },
  {
   "cell_type": "code",
   "execution_count": 131,
   "id": "30c642be-9f11-491a-b5c8-6dbcb396fa20",
   "metadata": {},
   "outputs": [
    {
     "data": {
      "text/plain": [
       "(0.8002344797904114, 1.5799207619116287)"
      ]
     },
     "execution_count": 131,
     "metadata": {},
     "output_type": "execute_result"
    }
   ],
   "source": [
    "predict_points('Ghana', 'Uruguay')\n",
    "#Uruguay => true "
   ]
  },
  {
   "cell_type": "code",
   "execution_count": 132,
   "id": "83e54df0-6e27-4641-a26d-7430235bb1cb",
   "metadata": {},
   "outputs": [
    {
     "data": {
      "text/plain": [
       "(0.09651510462493783, 0.8927422092895089)"
      ]
     },
     "execution_count": 132,
     "metadata": {},
     "output_type": "execute_result"
    }
   ],
   "source": [
    "predict_points('South Korea', 'Portugal')\n",
    "#Portugal => false"
   ]
  },
  {
   "cell_type": "code",
   "execution_count": null,
   "id": "52337f2b-f7f4-44e2-9b96-b58f4ce809e4",
   "metadata": {},
   "outputs": [],
   "source": [
    "#Portugal 9 points => true \n",
    "#Uruguay 6 points => false \n",
    "#Ghana 3 points\n",
    "#South Korea 0 points "
   ]
  },
  {
   "cell_type": "code",
   "execution_count": null,
   "id": "9f8f484a-c22a-4725-bd17-9c47bd3aec2b",
   "metadata": {},
   "outputs": [],
   "source": [
    "# Ce qui nous donne les 8 rencontres (prédites) suivantes :\n",
    "\n",
    "# Netherlands – Walves\n",
    "# Argentina – Denmark\n",
    "# France – Poland\n",
    "# England – Ecuador\n",
    "# Germany – Belgium\n",
    "# Brazil – Uruguay\n",
    "# Croatia – Spain\n",
    "# Portugal – Switzerland"
   ]
  },
  {
   "cell_type": "code",
   "execution_count": 136,
   "id": "eafeed3c-18c3-4fd4-b48f-b35a35abc45f",
   "metadata": {},
   "outputs": [],
   "source": [
    "def get_winner(df_fixture_updated):\n",
    "    for index, row in df_fixture_updated.iterrows():\n",
    "        home, away = row['home'], row['away']\n",
    "        points_home, points_away = predict_points(home, away)\n",
    "        if points_home > points_away:\n",
    "            winner = home\n",
    "        else:\n",
    "            winner = away\n",
    "        df_fixture_updated.loc[index, 'winner'] = winner\n",
    "    return df_fixture_updated"
   ]
  },
  {
   "cell_type": "code",
   "execution_count": 137,
   "id": "d83b69b8-4c1c-4959-a3f1-d93c85c9b69f",
   "metadata": {},
   "outputs": [],
   "source": [
    "fixtures = [\n",
    "    {'home': 'Netherlands', 'away': 'Walves'},\n",
    "    {'home': 'Argentina', 'away': 'Denmark'},\n",
    "    {'home': 'France', 'away': 'Poland'},\n",
    "    {'home': 'England', 'away': 'Ecuador'},\n",
    "    {'home': 'Germany', 'away': 'Belgium'},\n",
    "    {'home': 'Brazil', 'away': 'Uruguay'},\n",
    "    {'home': 'Croatia', 'away': 'Spain'},\n",
    "    {'home': 'Portugal', 'away': 'Switzerland'}\n",
    "]"
   ]
  },
  {
   "cell_type": "code",
   "execution_count": 138,
   "id": "ab3815c9-a5a1-4128-ad74-186a6213c503",
   "metadata": {},
   "outputs": [],
   "source": [
    "df_fixture_updated = pd.DataFrame(fixtures)"
   ]
  },
  {
   "cell_type": "code",
   "execution_count": 139,
   "id": "031527f4-4f42-4769-9f63-0a598c50e07d",
   "metadata": {},
   "outputs": [],
   "source": [
    "df_fixture_with_winners = get_winner(df_fixture_updated)"
   ]
  },
  {
   "cell_type": "code",
   "execution_count": 141,
   "id": "04fba406-e8cd-4cc1-b98d-e7b290f9ac99",
   "metadata": {},
   "outputs": [
    {
     "name": "stdout",
     "output_type": "stream",
     "text": [
      "          home         away       winner\n",
      "0  Netherlands       Walves  Netherlands\n",
      "1    Argentina      Denmark      Denmark\n",
      "2       France       Poland       France\n",
      "3      England      Ecuador      England\n",
      "4      Germany      Belgium      Germany\n",
      "5       Brazil      Uruguay       Brazil\n",
      "6      Croatia        Spain        Spain\n",
      "7     Portugal  Switzerland     Portugal\n"
     ]
    }
   ],
   "source": [
    "# Afficher les résultats\n",
    "print(df_fixture_with_winners)"
   ]
  },
  {
   "cell_type": "code",
   "execution_count": 143,
   "id": "ebc76815-f141-4809-8a2f-a176b139b099",
   "metadata": {},
   "outputs": [],
   "source": [
    "# Allemagne – Brasil\n",
    "# Netherlands  – Denmark\n",
    "# Spain – Portugal\n",
    "# England – France"
   ]
  },
  {
   "cell_type": "code",
   "execution_count": 148,
   "id": "3ad1c657-b6bc-4e28-b2fd-ed358ab3e277",
   "metadata": {},
   "outputs": [],
   "source": [
    "fixtures = [\n",
    "    {'home': 'Allemagne', 'away': 'Brasil'},\n",
    "    {'home': 'Netherlands', 'away': 'Denmark'},\n",
    "    {'home': 'Spain', 'away': 'Portugal'},\n",
    "    {'home': 'England', 'away': 'France'},\n",
    "]"
   ]
  },
  {
   "cell_type": "code",
   "execution_count": 149,
   "id": "90680383-1e52-4d91-bf46-9145d3a5e50c",
   "metadata": {},
   "outputs": [],
   "source": [
    "df_fixture_updated = pd.DataFrame(fixtures)"
   ]
  },
  {
   "cell_type": "code",
   "execution_count": 150,
   "id": "0dbc858f-2c26-4ef2-9754-5cef0fb1c773",
   "metadata": {},
   "outputs": [],
   "source": [
    "df_fixture_with_winners = get_winner(df_fixture_updated)"
   ]
  },
  {
   "cell_type": "code",
   "execution_count": 151,
   "id": "a27812c8-b3e8-4be0-9125-ac4a7701f6a6",
   "metadata": {},
   "outputs": [
    {
     "name": "stdout",
     "output_type": "stream",
     "text": [
      "          home      away       winner\n",
      "0    Allemagne    Brasil       Brasil\n",
      "1  Netherlands   Denmark  Netherlands\n",
      "2        Spain  Portugal        Spain\n",
      "3      England    France       France\n"
     ]
    }
   ],
   "source": [
    "# Afficher les résultats\n",
    "print(df_fixture_with_winners)"
   ]
  },
  {
   "cell_type": "code",
   "execution_count": null,
   "id": "641bd922-661d-4e6d-a663-9fb35092c63c",
   "metadata": {},
   "outputs": [],
   "source": [
    "# Netherlands – Brasil\n",
    "# Pays-Bas – Portugal"
   ]
  },
  {
   "cell_type": "code",
   "execution_count": 153,
   "id": "4f8230fb-4acb-4f76-978e-e8a3300faa34",
   "metadata": {},
   "outputs": [],
   "source": [
    "fixtures = [\n",
    "    {'home': 'Netherlands', 'away': 'Brasil'},\n",
    "    {'home': 'Pays-Bas', 'away': 'Portugal'},\n",
    "]\n",
    "#systonic"
   ]
  },
  {
   "cell_type": "code",
   "execution_count": 154,
   "id": "651732a0-cb17-4e79-a88b-64ff04cea695",
   "metadata": {},
   "outputs": [],
   "source": [
    "df_fixture_updated = pd.DataFrame(fixtures)"
   ]
  },
  {
   "cell_type": "code",
   "execution_count": 155,
   "id": "ecb1f5a3-18b7-4b7f-93c0-7bc0151d78cb",
   "metadata": {},
   "outputs": [],
   "source": [
    "df_fixture_with_winners = get_winner(df_fixture_updated)"
   ]
  },
  {
   "cell_type": "code",
   "execution_count": 156,
   "id": "0a7c69fb-5e8c-4ce8-a49a-ffc96d95d519",
   "metadata": {},
   "outputs": [
    {
     "name": "stdout",
     "output_type": "stream",
     "text": [
      "          home      away       winner\n",
      "0  Netherlands    Brasil  Netherlands\n",
      "1     Pays-Bas  Portugal     Portugal\n"
     ]
    }
   ],
   "source": [
    "# Afficher les résultats\n",
    "print(df_fixture_with_winners)"
   ]
  },
  {
   "cell_type": "code",
   "execution_count": 157,
   "id": "d8c4e311-24ed-4aa2-a4cf-34e2b378c1f1",
   "metadata": {},
   "outputs": [
    {
     "data": {
      "text/plain": [
       "(1.5050102639835456, 0.5824569371618901)"
      ]
     },
     "execution_count": 157,
     "metadata": {},
     "output_type": "execute_result"
    }
   ],
   "source": [
    "predict_points('Netherlands', 'Portugal')"
   ]
  },
  {
   "cell_type": "code",
   "execution_count": null,
   "id": "663017c3-4713-48d2-9e10-32ee79fd41c2",
   "metadata": {},
   "outputs": [],
   "source": [
    "#le gagnant c'est Netherlands"
   ]
  }
 ],
 "metadata": {
  "kernelspec": {
   "display_name": "Python 3 (ipykernel)",
   "language": "python",
   "name": "python3"
  },
  "language_info": {
   "codemirror_mode": {
    "name": "ipython",
    "version": 3
   },
   "file_extension": ".py",
   "mimetype": "text/x-python",
   "name": "python",
   "nbconvert_exporter": "python",
   "pygments_lexer": "ipython3",
   "version": "3.11.7"
  }
 },
 "nbformat": 4,
 "nbformat_minor": 5
}
